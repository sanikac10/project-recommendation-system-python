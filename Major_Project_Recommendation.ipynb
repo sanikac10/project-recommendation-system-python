{
  "nbformat": 4,
  "nbformat_minor": 0,
  "metadata": {
    "colab": {
      "provenance": [],
      "include_colab_link": true
    },
    "kernelspec": {
      "name": "python3",
      "display_name": "Python 3"
    },
    "language_info": {
      "name": "python"
    }
  },
  "cells": [
    {
      "cell_type": "markdown",
      "metadata": {
        "id": "view-in-github",
        "colab_type": "text"
      },
      "source": [
        "<a href=\"https://colab.research.google.com/github/sanikac10/project-recommendation-system-python/blob/main/Major_Project_Recommendation.ipynb\" target=\"_parent\"><img src=\"https://colab.research.google.com/assets/colab-badge.svg\" alt=\"Open In Colab\"/></a>"
      ]
    },
    {
      "cell_type": "code",
      "execution_count": null,
      "metadata": {
        "id": "Z3Ve7NNS9GOt"
      },
      "outputs": [],
      "source": [
        "import pandas as pd"
      ]
    },
    {
      "cell_type": "code",
      "source": [
        "df = pd.read_csv(\"dataset.csv\")"
      ],
      "metadata": {
        "id": "4cPikRHN9NLZ"
      },
      "execution_count": null,
      "outputs": []
    },
    {
      "cell_type": "code",
      "source": [
        "df.Authors.nunique()"
      ],
      "metadata": {
        "colab": {
          "base_uri": "https://localhost:8080/"
        },
        "id": "Uv-bblfIHpky",
        "outputId": "ebcb56ed-011f-4cd7-c90d-cfca77f5598f"
      },
      "execution_count": null,
      "outputs": [
        {
          "output_type": "execute_result",
          "data": {
            "text/plain": [
              "1950"
            ]
          },
          "metadata": {},
          "execution_count": 94
        }
      ]
    },
    {
      "cell_type": "code",
      "source": [
        "df.Publisher.nunique()"
      ],
      "metadata": {
        "colab": {
          "base_uri": "https://localhost:8080/"
        },
        "id": "qmqQnvxBIHn1",
        "outputId": "37ef8365-787f-48f7-f142-61098b1307c9"
      },
      "execution_count": null,
      "outputs": [
        {
          "output_type": "execute_result",
          "data": {
            "text/plain": [
              "1"
            ]
          },
          "metadata": {},
          "execution_count": 95
        }
      ]
    },
    {
      "cell_type": "code",
      "source": [
        "df.Abstract.nunique()"
      ],
      "metadata": {
        "colab": {
          "base_uri": "https://localhost:8080/"
        },
        "id": "Q5jwNsNKIM5P",
        "outputId": "7d13e9e3-e63e-49d3-cf31-a2452606f6e2"
      },
      "execution_count": null,
      "outputs": [
        {
          "output_type": "execute_result",
          "data": {
            "text/plain": [
              "1999"
            ]
          },
          "metadata": {},
          "execution_count": 96
        }
      ]
    },
    {
      "cell_type": "code",
      "source": [
        "df.Document_Title.nunique()"
      ],
      "metadata": {
        "colab": {
          "base_uri": "https://localhost:8080/"
        },
        "id": "S6egYPQrKHIY",
        "outputId": "f2ba1b30-0152-423d-d7bc-2303817de3fe"
      },
      "execution_count": null,
      "outputs": [
        {
          "output_type": "execute_result",
          "data": {
            "text/plain": [
              "2000"
            ]
          },
          "metadata": {},
          "execution_count": 97
        }
      ]
    },
    {
      "cell_type": "code",
      "source": [
        "df.Author_Keywords.nunique()"
      ],
      "metadata": {
        "colab": {
          "base_uri": "https://localhost:8080/"
        },
        "id": "zplYqbUjKQLF",
        "outputId": "ca9e7f79-85a9-4386-9815-e199732a99cc"
      },
      "execution_count": null,
      "outputs": [
        {
          "output_type": "execute_result",
          "data": {
            "text/plain": [
              "1605"
            ]
          },
          "metadata": {},
          "execution_count": 98
        }
      ]
    },
    {
      "cell_type": "code",
      "source": [
        "df.shape"
      ],
      "metadata": {
        "colab": {
          "base_uri": "https://localhost:8080/"
        },
        "id": "JSiJBzZHNOxM",
        "outputId": "c7a556a4-321e-422b-d003-897980a81461"
      },
      "execution_count": null,
      "outputs": [
        {
          "output_type": "execute_result",
          "data": {
            "text/plain": [
              "(2000, 12)"
            ]
          },
          "metadata": {},
          "execution_count": 99
        }
      ]
    },
    {
      "cell_type": "code",
      "source": [
        "df.head(1)"
      ],
      "metadata": {
        "colab": {
          "base_uri": "https://localhost:8080/",
          "height": 229
        },
        "id": "25NDoBirVls3",
        "outputId": "a373c531-1635-4215-cbf4-656fa24214a4"
      },
      "execution_count": null,
      "outputs": [
        {
          "output_type": "execute_result",
          "data": {
            "text/plain": [
              "                                      Document_Title        Authors  \\\n",
              "0  The computer-related risk of the year: compute...  P. G. Neumann   \n",
              "\n",
              "   Author_Affiliations                      Publication_Title  \\\n",
              "0  Menlo Park, CA, USA  Computer Assurance, 1988. COMPASS '88   \n",
              "\n",
              "  Date_Added_To_Xplore Publication_Year  \\\n",
              "0            06-Aug-02             1988   \n",
              "\n",
              "                                            Abstract Author_Keywords  \\\n",
              "0  The defensive technology required to combat th...             NaN   \n",
              "\n",
              "                                          IEEE_Terms  \\\n",
              "0  [Invasive software, Hardware, Computer network...   \n",
              "\n",
              "                             INSPEC_Controlled_Terms Online_Date Publisher  \n",
              "0  [computer installation, data privacy, security...   06-Aug-02      IEEE  "
            ],
            "text/html": [
              "\n",
              "  <div id=\"df-326f4bb7-44dc-46b3-a8e9-f04458288d22\">\n",
              "    <div class=\"colab-df-container\">\n",
              "      <div>\n",
              "<style scoped>\n",
              "    .dataframe tbody tr th:only-of-type {\n",
              "        vertical-align: middle;\n",
              "    }\n",
              "\n",
              "    .dataframe tbody tr th {\n",
              "        vertical-align: top;\n",
              "    }\n",
              "\n",
              "    .dataframe thead th {\n",
              "        text-align: right;\n",
              "    }\n",
              "</style>\n",
              "<table border=\"1\" class=\"dataframe\">\n",
              "  <thead>\n",
              "    <tr style=\"text-align: right;\">\n",
              "      <th></th>\n",
              "      <th>Document_Title</th>\n",
              "      <th>Authors</th>\n",
              "      <th>Author_Affiliations</th>\n",
              "      <th>Publication_Title</th>\n",
              "      <th>Date_Added_To_Xplore</th>\n",
              "      <th>Publication_Year</th>\n",
              "      <th>Abstract</th>\n",
              "      <th>Author_Keywords</th>\n",
              "      <th>IEEE_Terms</th>\n",
              "      <th>INSPEC_Controlled_Terms</th>\n",
              "      <th>Online_Date</th>\n",
              "      <th>Publisher</th>\n",
              "    </tr>\n",
              "  </thead>\n",
              "  <tbody>\n",
              "    <tr>\n",
              "      <th>0</th>\n",
              "      <td>The computer-related risk of the year: compute...</td>\n",
              "      <td>P. G. Neumann</td>\n",
              "      <td>Menlo Park, CA, USA</td>\n",
              "      <td>Computer Assurance, 1988. COMPASS '88</td>\n",
              "      <td>06-Aug-02</td>\n",
              "      <td>1988</td>\n",
              "      <td>The defensive technology required to combat th...</td>\n",
              "      <td>NaN</td>\n",
              "      <td>[Invasive software, Hardware, Computer network...</td>\n",
              "      <td>[computer installation, data privacy, security...</td>\n",
              "      <td>06-Aug-02</td>\n",
              "      <td>IEEE</td>\n",
              "    </tr>\n",
              "  </tbody>\n",
              "</table>\n",
              "</div>\n",
              "      <button class=\"colab-df-convert\" onclick=\"convertToInteractive('df-326f4bb7-44dc-46b3-a8e9-f04458288d22')\"\n",
              "              title=\"Convert this dataframe to an interactive table.\"\n",
              "              style=\"display:none;\">\n",
              "        \n",
              "  <svg xmlns=\"http://www.w3.org/2000/svg\" height=\"24px\"viewBox=\"0 0 24 24\"\n",
              "       width=\"24px\">\n",
              "    <path d=\"M0 0h24v24H0V0z\" fill=\"none\"/>\n",
              "    <path d=\"M18.56 5.44l.94 2.06.94-2.06 2.06-.94-2.06-.94-.94-2.06-.94 2.06-2.06.94zm-11 1L8.5 8.5l.94-2.06 2.06-.94-2.06-.94L8.5 2.5l-.94 2.06-2.06.94zm10 10l.94 2.06.94-2.06 2.06-.94-2.06-.94-.94-2.06-.94 2.06-2.06.94z\"/><path d=\"M17.41 7.96l-1.37-1.37c-.4-.4-.92-.59-1.43-.59-.52 0-1.04.2-1.43.59L10.3 9.45l-7.72 7.72c-.78.78-.78 2.05 0 2.83L4 21.41c.39.39.9.59 1.41.59.51 0 1.02-.2 1.41-.59l7.78-7.78 2.81-2.81c.8-.78.8-2.07 0-2.86zM5.41 20L4 18.59l7.72-7.72 1.47 1.35L5.41 20z\"/>\n",
              "  </svg>\n",
              "      </button>\n",
              "      \n",
              "  <style>\n",
              "    .colab-df-container {\n",
              "      display:flex;\n",
              "      flex-wrap:wrap;\n",
              "      gap: 12px;\n",
              "    }\n",
              "\n",
              "    .colab-df-convert {\n",
              "      background-color: #E8F0FE;\n",
              "      border: none;\n",
              "      border-radius: 50%;\n",
              "      cursor: pointer;\n",
              "      display: none;\n",
              "      fill: #1967D2;\n",
              "      height: 32px;\n",
              "      padding: 0 0 0 0;\n",
              "      width: 32px;\n",
              "    }\n",
              "\n",
              "    .colab-df-convert:hover {\n",
              "      background-color: #E2EBFA;\n",
              "      box-shadow: 0px 1px 2px rgba(60, 64, 67, 0.3), 0px 1px 3px 1px rgba(60, 64, 67, 0.15);\n",
              "      fill: #174EA6;\n",
              "    }\n",
              "\n",
              "    [theme=dark] .colab-df-convert {\n",
              "      background-color: #3B4455;\n",
              "      fill: #D2E3FC;\n",
              "    }\n",
              "\n",
              "    [theme=dark] .colab-df-convert:hover {\n",
              "      background-color: #434B5C;\n",
              "      box-shadow: 0px 1px 3px 1px rgba(0, 0, 0, 0.15);\n",
              "      filter: drop-shadow(0px 1px 2px rgba(0, 0, 0, 0.3));\n",
              "      fill: #FFFFFF;\n",
              "    }\n",
              "  </style>\n",
              "\n",
              "      <script>\n",
              "        const buttonEl =\n",
              "          document.querySelector('#df-326f4bb7-44dc-46b3-a8e9-f04458288d22 button.colab-df-convert');\n",
              "        buttonEl.style.display =\n",
              "          google.colab.kernel.accessAllowed ? 'block' : 'none';\n",
              "\n",
              "        async function convertToInteractive(key) {\n",
              "          const element = document.querySelector('#df-326f4bb7-44dc-46b3-a8e9-f04458288d22');\n",
              "          const dataTable =\n",
              "            await google.colab.kernel.invokeFunction('convertToInteractive',\n",
              "                                                     [key], {});\n",
              "          if (!dataTable) return;\n",
              "\n",
              "          const docLinkHtml = 'Like what you see? Visit the ' +\n",
              "            '<a target=\"_blank\" href=https://colab.research.google.com/notebooks/data_table.ipynb>data table notebook</a>'\n",
              "            + ' to learn more about interactive tables.';\n",
              "          element.innerHTML = '';\n",
              "          dataTable['output_type'] = 'display_data';\n",
              "          await google.colab.output.renderOutput(dataTable, element);\n",
              "          const docLink = document.createElement('div');\n",
              "          docLink.innerHTML = docLinkHtml;\n",
              "          element.appendChild(docLink);\n",
              "        }\n",
              "      </script>\n",
              "    </div>\n",
              "  </div>\n",
              "  "
            ]
          },
          "metadata": {},
          "execution_count": 100
        }
      ]
    },
    {
      "cell_type": "code",
      "source": [
        "# columns to be used\n",
        "#Document_Title\n",
        "#Abstract\n",
        "#Author_Keywords\n",
        "#IEEE_Terms\n",
        "#INSPEC_Controlled_Terms\n",
        "\n",
        "df = df[['Document_Title', 'Abstract', 'Author_Keywords', 'IEEE_Terms', 'INSPEC_Controlled_Terms']]"
      ],
      "metadata": {
        "id": "KrUOE8WAWoc8"
      },
      "execution_count": null,
      "outputs": []
    },
    {
      "cell_type": "code",
      "source": [
        "df.isnull().sum()"
      ],
      "metadata": {
        "colab": {
          "base_uri": "https://localhost:8080/"
        },
        "id": "YOik9v05YxiQ",
        "outputId": "5ae76316-9b1e-43d9-c05d-abfe1f994873"
      },
      "execution_count": null,
      "outputs": [
        {
          "output_type": "execute_result",
          "data": {
            "text/plain": [
              "Document_Title               0\n",
              "Abstract                     1\n",
              "Author_Keywords            389\n",
              "IEEE_Terms                  12\n",
              "INSPEC_Controlled_Terms      2\n",
              "dtype: int64"
            ]
          },
          "metadata": {},
          "execution_count": 102
        }
      ]
    },
    {
      "cell_type": "code",
      "source": [
        "df.dropna(inplace=True)"
      ],
      "metadata": {
        "id": "pIvU5EGUY4mb",
        "colab": {
          "base_uri": "https://localhost:8080/"
        },
        "outputId": "e86f4366-7aaf-48f7-a4da-5f1ec1da1ed1"
      },
      "execution_count": null,
      "outputs": [
        {
          "output_type": "stream",
          "name": "stderr",
          "text": [
            "/usr/local/lib/python3.8/dist-packages/pandas/util/_decorators.py:311: SettingWithCopyWarning: \n",
            "A value is trying to be set on a copy of a slice from a DataFrame\n",
            "\n",
            "See the caveats in the documentation: https://pandas.pydata.org/pandas-docs/stable/user_guide/indexing.html#returning-a-view-versus-a-copy\n",
            "  return func(*args, **kwargs)\n"
          ]
        }
      ]
    },
    {
      "cell_type": "code",
      "source": [
        "df.isnull().sum()"
      ],
      "metadata": {
        "colab": {
          "base_uri": "https://localhost:8080/"
        },
        "id": "d7B3ytX_ZLVa",
        "outputId": "dcbdf52f-8f52-473d-c365-2f431294a349"
      },
      "execution_count": null,
      "outputs": [
        {
          "output_type": "execute_result",
          "data": {
            "text/plain": [
              "Document_Title             0\n",
              "Abstract                   0\n",
              "Author_Keywords            0\n",
              "IEEE_Terms                 0\n",
              "INSPEC_Controlled_Terms    0\n",
              "dtype: int64"
            ]
          },
          "metadata": {},
          "execution_count": 104
        }
      ]
    },
    {
      "cell_type": "code",
      "source": [
        "df.duplicated().sum()"
      ],
      "metadata": {
        "colab": {
          "base_uri": "https://localhost:8080/"
        },
        "id": "-IL_hxk8ZOZn",
        "outputId": "6bd04fd6-da57-4604-c39f-aae07c4571a6"
      },
      "execution_count": null,
      "outputs": [
        {
          "output_type": "execute_result",
          "data": {
            "text/plain": [
              "0"
            ]
          },
          "metadata": {},
          "execution_count": 105
        }
      ]
    },
    {
      "cell_type": "code",
      "source": [
        "df.iloc[100].IEEE_Terms"
      ],
      "metadata": {
        "colab": {
          "base_uri": "https://localhost:8080/",
          "height": 52
        },
        "id": "z7Q7modQZWbt",
        "outputId": "03e85bf9-5da7-420f-9027-a49f54719f01"
      },
      "execution_count": null,
      "outputs": [
        {
          "output_type": "execute_result",
          "data": {
            "text/plain": [
              "'[Immune system, Biology computing, Biological system modeling, Computational modeling, Computer networks, Computer science, Cloning, Multimedia systems, Computer security, Information security]'"
            ],
            "application/vnd.google.colaboratory.intrinsic+json": {
              "type": "string"
            }
          },
          "metadata": {},
          "execution_count": 106
        }
      ]
    },
    {
      "cell_type": "code",
      "source": [
        "df['Abstract']"
      ],
      "metadata": {
        "colab": {
          "base_uri": "https://localhost:8080/"
        },
        "id": "yoZjgKf26DCD",
        "outputId": "afb5d80d-57c1-44d8-c1d1-953010cab403"
      },
      "execution_count": null,
      "outputs": [
        {
          "output_type": "execute_result",
          "data": {
            "text/plain": [
              "1       Understanding computer system hardware is basi...\n",
              "2       With the development of computer science and t...\n",
              "3       Computer education in colleges and universitie...\n",
              "4       Computer basic education with computer science...\n",
              "5       Many undergraduate students majoring in comput...\n",
              "                              ...                        \n",
              "1990    This paper presents the results of two experim...\n",
              "1994    In today's digital world internet became a pop...\n",
              "1995    The Mathematics and Computer Science Departmen...\n",
              "1996    For the past several years, we at Baylor Compu...\n",
              "1997    This paper is based on the experience of revie...\n",
              "Name: Abstract, Length: 1597, dtype: object"
            ]
          },
          "metadata": {},
          "execution_count": 107
        }
      ]
    },
    {
      "cell_type": "code",
      "source": [
        "df['Abstract'] = df['Abstract'].apply(lambda x:x.split())"
      ],
      "metadata": {
        "id": "GxlT9-Ui7ESb"
      },
      "execution_count": null,
      "outputs": []
    },
    {
      "cell_type": "code",
      "source": [
        "string = \"[\" + \", \".join(df.iloc[0].Abstract) + \"]\"\n",
        "string"
      ],
      "metadata": {
        "colab": {
          "base_uri": "https://localhost:8080/",
          "height": 171
        },
        "id": "FHZZTF08vttV",
        "outputId": "cc2284fe-4d61-465e-dab8-a21cb6343311"
      },
      "execution_count": null,
      "outputs": [
        {
          "output_type": "execute_result",
          "data": {
            "text/plain": [
              "\"[Understanding, computer, system, hardware, is, basic, for, the, undergraduate, student, which, study, in, the, computer, area., System, user, always, needs, a, faster,, cheap, and, reliable, process, which, is, conducted, by, it, computer, system, self., To, fulfill, that, process, is, required, how, a, computer, works, from, their, design, and, how, they, operate., That, course, is, conducted, by, Computer, Architecture, and, Organization, (CAO), course., Two, computer, undergraduate, area, which, studies, CAO, is, Computer, Engineering, (CE), and, Computer, Science, (CS)., To, support, great, learning, at, CAO, both, CE, and, CS, needs, to, not, just, study, which, has, a, material, course, but, they, had, to, practically, study, computer, architecture, and, design, by, the, simulator., Why, simulator, is, chosen,, because, to, create, computer, such, as, CPU,, RAM, etc., needs, big, systems, that, can, manufacture, them., Nowadays, too, much, freely, available, simulator, that, can, be, downloaded, and, used, anytime,, but, not, all, simulators, meet, study, requirements, and, didn't, meet, the, CAO, Learning, Outcome., CS, and, CE, have, an, international, curriculum, that, given, by, ACM, Computing, Curricula., So, this, paper, is, discussed, what, kind, of, simulator, that, meets, Computing, Curricula, requirement, to, implement, at, learning, process, which, helps, the, instructor, to, choose, simulator, that, can, be, able, to, grasp, knowledge, that, delivered, to, the, student.]\""
            ],
            "application/vnd.google.colaboratory.intrinsic+json": {
              "type": "string"
            }
          },
          "metadata": {},
          "execution_count": 109
        }
      ]
    },
    {
      "cell_type": "code",
      "source": [
        "df['Abstract'] = df['Abstract'].apply(lambda x:\"[\" + \", \".join(x) + \"]\")"
      ],
      "metadata": {
        "id": "2XK89MfRuakq"
      },
      "execution_count": null,
      "outputs": []
    },
    {
      "cell_type": "code",
      "source": [
        "df.head(1)"
      ],
      "metadata": {
        "colab": {
          "base_uri": "https://localhost:8080/",
          "height": 141
        },
        "id": "JJEUk18j7XUA",
        "outputId": "f7c76a3f-9b3f-47ab-fa5f-010f84eccaea"
      },
      "execution_count": null,
      "outputs": [
        {
          "output_type": "execute_result",
          "data": {
            "text/plain": [
              "                                      Document_Title  \\\n",
              "1  Teaching and learning support for computer arc...   \n",
              "\n",
              "                                            Abstract  \\\n",
              "1  [Understanding, computer, system, hardware, is...   \n",
              "\n",
              "                                     Author_Keywords  \\\n",
              "1  [Computer Organization and Architecture, Compu...   \n",
              "\n",
              "                                          IEEE_Terms  \\\n",
              "1  [Organizations, Computer science, Standards or...   \n",
              "\n",
              "                             INSPEC_Controlled_Terms  \n",
              "1  [computer aided instruction, computer science ...  "
            ],
            "text/html": [
              "\n",
              "  <div id=\"df-f328f9ec-e09b-4f2e-9180-cd2d82525900\">\n",
              "    <div class=\"colab-df-container\">\n",
              "      <div>\n",
              "<style scoped>\n",
              "    .dataframe tbody tr th:only-of-type {\n",
              "        vertical-align: middle;\n",
              "    }\n",
              "\n",
              "    .dataframe tbody tr th {\n",
              "        vertical-align: top;\n",
              "    }\n",
              "\n",
              "    .dataframe thead th {\n",
              "        text-align: right;\n",
              "    }\n",
              "</style>\n",
              "<table border=\"1\" class=\"dataframe\">\n",
              "  <thead>\n",
              "    <tr style=\"text-align: right;\">\n",
              "      <th></th>\n",
              "      <th>Document_Title</th>\n",
              "      <th>Abstract</th>\n",
              "      <th>Author_Keywords</th>\n",
              "      <th>IEEE_Terms</th>\n",
              "      <th>INSPEC_Controlled_Terms</th>\n",
              "    </tr>\n",
              "  </thead>\n",
              "  <tbody>\n",
              "    <tr>\n",
              "      <th>1</th>\n",
              "      <td>Teaching and learning support for computer arc...</td>\n",
              "      <td>[Understanding, computer, system, hardware, is...</td>\n",
              "      <td>[Computer Organization and Architecture, Compu...</td>\n",
              "      <td>[Organizations, Computer science, Standards or...</td>\n",
              "      <td>[computer aided instruction, computer science ...</td>\n",
              "    </tr>\n",
              "  </tbody>\n",
              "</table>\n",
              "</div>\n",
              "      <button class=\"colab-df-convert\" onclick=\"convertToInteractive('df-f328f9ec-e09b-4f2e-9180-cd2d82525900')\"\n",
              "              title=\"Convert this dataframe to an interactive table.\"\n",
              "              style=\"display:none;\">\n",
              "        \n",
              "  <svg xmlns=\"http://www.w3.org/2000/svg\" height=\"24px\"viewBox=\"0 0 24 24\"\n",
              "       width=\"24px\">\n",
              "    <path d=\"M0 0h24v24H0V0z\" fill=\"none\"/>\n",
              "    <path d=\"M18.56 5.44l.94 2.06.94-2.06 2.06-.94-2.06-.94-.94-2.06-.94 2.06-2.06.94zm-11 1L8.5 8.5l.94-2.06 2.06-.94-2.06-.94L8.5 2.5l-.94 2.06-2.06.94zm10 10l.94 2.06.94-2.06 2.06-.94-2.06-.94-.94-2.06-.94 2.06-2.06.94z\"/><path d=\"M17.41 7.96l-1.37-1.37c-.4-.4-.92-.59-1.43-.59-.52 0-1.04.2-1.43.59L10.3 9.45l-7.72 7.72c-.78.78-.78 2.05 0 2.83L4 21.41c.39.39.9.59 1.41.59.51 0 1.02-.2 1.41-.59l7.78-7.78 2.81-2.81c.8-.78.8-2.07 0-2.86zM5.41 20L4 18.59l7.72-7.72 1.47 1.35L5.41 20z\"/>\n",
              "  </svg>\n",
              "      </button>\n",
              "      \n",
              "  <style>\n",
              "    .colab-df-container {\n",
              "      display:flex;\n",
              "      flex-wrap:wrap;\n",
              "      gap: 12px;\n",
              "    }\n",
              "\n",
              "    .colab-df-convert {\n",
              "      background-color: #E8F0FE;\n",
              "      border: none;\n",
              "      border-radius: 50%;\n",
              "      cursor: pointer;\n",
              "      display: none;\n",
              "      fill: #1967D2;\n",
              "      height: 32px;\n",
              "      padding: 0 0 0 0;\n",
              "      width: 32px;\n",
              "    }\n",
              "\n",
              "    .colab-df-convert:hover {\n",
              "      background-color: #E2EBFA;\n",
              "      box-shadow: 0px 1px 2px rgba(60, 64, 67, 0.3), 0px 1px 3px 1px rgba(60, 64, 67, 0.15);\n",
              "      fill: #174EA6;\n",
              "    }\n",
              "\n",
              "    [theme=dark] .colab-df-convert {\n",
              "      background-color: #3B4455;\n",
              "      fill: #D2E3FC;\n",
              "    }\n",
              "\n",
              "    [theme=dark] .colab-df-convert:hover {\n",
              "      background-color: #434B5C;\n",
              "      box-shadow: 0px 1px 3px 1px rgba(0, 0, 0, 0.15);\n",
              "      filter: drop-shadow(0px 1px 2px rgba(0, 0, 0, 0.3));\n",
              "      fill: #FFFFFF;\n",
              "    }\n",
              "  </style>\n",
              "\n",
              "      <script>\n",
              "        const buttonEl =\n",
              "          document.querySelector('#df-f328f9ec-e09b-4f2e-9180-cd2d82525900 button.colab-df-convert');\n",
              "        buttonEl.style.display =\n",
              "          google.colab.kernel.accessAllowed ? 'block' : 'none';\n",
              "\n",
              "        async function convertToInteractive(key) {\n",
              "          const element = document.querySelector('#df-f328f9ec-e09b-4f2e-9180-cd2d82525900');\n",
              "          const dataTable =\n",
              "            await google.colab.kernel.invokeFunction('convertToInteractive',\n",
              "                                                     [key], {});\n",
              "          if (!dataTable) return;\n",
              "\n",
              "          const docLinkHtml = 'Like what you see? Visit the ' +\n",
              "            '<a target=\"_blank\" href=https://colab.research.google.com/notebooks/data_table.ipynb>data table notebook</a>'\n",
              "            + ' to learn more about interactive tables.';\n",
              "          element.innerHTML = '';\n",
              "          dataTable['output_type'] = 'display_data';\n",
              "          await google.colab.output.renderOutput(dataTable, element);\n",
              "          const docLink = document.createElement('div');\n",
              "          docLink.innerHTML = docLinkHtml;\n",
              "          element.appendChild(docLink);\n",
              "        }\n",
              "      </script>\n",
              "    </div>\n",
              "  </div>\n",
              "  "
            ]
          },
          "metadata": {},
          "execution_count": 111
        }
      ]
    },
    {
      "cell_type": "code",
      "source": [
        "df['IEEE_Terms'] = df['IEEE_Terms'].str.replace(', ', '_').str.replace(' ', '').str.replace(\"_\", \", \")"
      ],
      "metadata": {
        "id": "RrWNkCCv4Znl"
      },
      "execution_count": null,
      "outputs": []
    },
    {
      "cell_type": "code",
      "source": [
        "df['IEEE_Terms']"
      ],
      "metadata": {
        "colab": {
          "base_uri": "https://localhost:8080/"
        },
        "id": "dcT-TZLh0XCD",
        "outputId": "04b16ff9-30bf-4a20-d78a-4eb377bab176"
      },
      "execution_count": null,
      "outputs": [
        {
          "output_type": "execute_result",
          "data": {
            "text/plain": [
              "1       [Organizations, Computerscience, Standardsorga...\n",
              "2       [Logicdesign, Computerscience, Computerarchite...\n",
              "3       [Computers, Computationalmodeling, Training, E...\n",
              "4       [Computers, Education, Computerscience, Comput...\n",
              "5       [Knowledgeengineering, Codes, Instructionsets,...\n",
              "                              ...                        \n",
              "1990    [Wearablecomputers, Leggedlocomotion, Mice, Us...\n",
              "1994    [Creditcards, Reactivepower, UniversalSerialBu...\n",
              "1995    [Computerscience, Educationalinstitutions, Mat...\n",
              "1996    [Computerscience, Scientificcomputing, Educati...\n",
              "1997    [Computers, Books, Software, Electronicmail, I...\n",
              "Name: IEEE_Terms, Length: 1597, dtype: object"
            ]
          },
          "metadata": {},
          "execution_count": 113
        }
      ]
    },
    {
      "cell_type": "code",
      "source": [
        "df['Author_Keywords'] = df['Author_Keywords'].str.replace(', ', '_').str.replace(' ', '').str.replace(\"_\", \", \")"
      ],
      "metadata": {
        "id": "ZIO4rrc20kLO"
      },
      "execution_count": null,
      "outputs": []
    },
    {
      "cell_type": "code",
      "source": [
        "df['Author_Keywords'] "
      ],
      "metadata": {
        "colab": {
          "base_uri": "https://localhost:8080/"
        },
        "id": "Uk-rvGqM0rQn",
        "outputId": "09eef2f8-d2cd-42c4-efb5-6eab4db8019f"
      },
      "execution_count": null,
      "outputs": [
        {
          "output_type": "execute_result",
          "data": {
            "text/plain": [
              "1       [ComputerOrganizationandArchitecture, Computer...\n",
              "2       [Educationreform, fundamentallogic, computerde...\n",
              "3       [computertalent, computereducation, trainingmo...\n",
              "4       [computerfundamentaleducation, ComputationalTh...\n",
              "5       [instructionaldesign, computersystemfundamenta...\n",
              "                              ...                        \n",
              "1990    [Wearablecomputer, Pointingdevice, DragandDrop...\n",
              "1994    [Datasecurity, ITsecurity, ComputerForensics, ...\n",
              "1995    [curriculumdesign, computerscience, liberalart...\n",
              "1996    [TheoreticalComputerScience, Parsing, FiniteSt...\n",
              "1997    [computerliteracy, ECDL, coursedesign, pedagog...\n",
              "Name: Author_Keywords, Length: 1597, dtype: object"
            ]
          },
          "metadata": {},
          "execution_count": 115
        }
      ]
    },
    {
      "cell_type": "code",
      "source": [
        "df['INSPEC_Controlled_Terms'] = df['INSPEC_Controlled_Terms'].str.replace(', ', '_').str.replace(' ', '').str.replace(\"_\", \", \")"
      ],
      "metadata": {
        "id": "NCkUcbXB0yjx"
      },
      "execution_count": null,
      "outputs": []
    },
    {
      "cell_type": "code",
      "source": [
        "df['INSPEC_Controlled_Terms'] "
      ],
      "metadata": {
        "colab": {
          "base_uri": "https://localhost:8080/"
        },
        "id": "o6l4WRPk08WZ",
        "outputId": "2885e5ae-cf74-4101-b560-6adb217e5ae9"
      },
      "execution_count": null,
      "outputs": [
        {
          "output_type": "execute_result",
          "data": {
            "text/plain": [
              "1       [computeraidedinstruction, computerscienceeduc...\n",
              "2       [computerscienceeducation, educationalcourses,...\n",
              "3       [computerbasedtraining, computerscienceeducati...\n",
              "4       [computerscienceeducation, educationalcourses,...\n",
              "5       [computeraidedinstruction, computerscienceeduc...\n",
              "                              ...                        \n",
              "1990    [humancomputerinteraction, interactivedevices,...\n",
              "1994    [auditing, computercrime, credittransactions, ...\n",
              "1995                           [computerscienceeducation]\n",
              "1996    [computationalcomplexity, computeraidedinstruc...\n",
              "1997    [computeraidedinstruction, educationalcourses,...\n",
              "Name: INSPEC_Controlled_Terms, Length: 1597, dtype: object"
            ]
          },
          "metadata": {},
          "execution_count": 117
        }
      ]
    },
    {
      "cell_type": "code",
      "source": [
        "type(df.iloc[0].IEEE_Terms)"
      ],
      "metadata": {
        "colab": {
          "base_uri": "https://localhost:8080/"
        },
        "id": "b1-MxDOXqXaQ",
        "outputId": "4eeda5d8-83dd-4070-a8d8-9bcda0b489e9"
      },
      "execution_count": null,
      "outputs": [
        {
          "output_type": "execute_result",
          "data": {
            "text/plain": [
              "str"
            ]
          },
          "metadata": {},
          "execution_count": 118
        }
      ]
    },
    {
      "cell_type": "code",
      "source": [
        "type(df.iloc[0].Abstract)"
      ],
      "metadata": {
        "colab": {
          "base_uri": "https://localhost:8080/"
        },
        "id": "CfaxRecerLeJ",
        "outputId": "3e0057c4-0981-4010-8440-f70ebc24f059"
      },
      "execution_count": null,
      "outputs": [
        {
          "output_type": "execute_result",
          "data": {
            "text/plain": [
              "str"
            ]
          },
          "metadata": {},
          "execution_count": 119
        }
      ]
    },
    {
      "cell_type": "code",
      "source": [
        "df.iloc[0].Abstract"
      ],
      "metadata": {
        "id": "9uWcxdcwr3dz",
        "colab": {
          "base_uri": "https://localhost:8080/",
          "height": 171
        },
        "outputId": "6ee3658b-46ff-42ab-d05c-6dfb21647217"
      },
      "execution_count": null,
      "outputs": [
        {
          "output_type": "execute_result",
          "data": {
            "text/plain": [
              "\"[Understanding, computer, system, hardware, is, basic, for, the, undergraduate, student, which, study, in, the, computer, area., System, user, always, needs, a, faster,, cheap, and, reliable, process, which, is, conducted, by, it, computer, system, self., To, fulfill, that, process, is, required, how, a, computer, works, from, their, design, and, how, they, operate., That, course, is, conducted, by, Computer, Architecture, and, Organization, (CAO), course., Two, computer, undergraduate, area, which, studies, CAO, is, Computer, Engineering, (CE), and, Computer, Science, (CS)., To, support, great, learning, at, CAO, both, CE, and, CS, needs, to, not, just, study, which, has, a, material, course, but, they, had, to, practically, study, computer, architecture, and, design, by, the, simulator., Why, simulator, is, chosen,, because, to, create, computer, such, as, CPU,, RAM, etc., needs, big, systems, that, can, manufacture, them., Nowadays, too, much, freely, available, simulator, that, can, be, downloaded, and, used, anytime,, but, not, all, simulators, meet, study, requirements, and, didn't, meet, the, CAO, Learning, Outcome., CS, and, CE, have, an, international, curriculum, that, given, by, ACM, Computing, Curricula., So, this, paper, is, discussed, what, kind, of, simulator, that, meets, Computing, Curricula, requirement, to, implement, at, learning, process, which, helps, the, instructor, to, choose, simulator, that, can, be, able, to, grasp, knowledge, that, delivered, to, the, student.]\""
            ],
            "application/vnd.google.colaboratory.intrinsic+json": {
              "type": "string"
            }
          },
          "metadata": {},
          "execution_count": 120
        }
      ]
    },
    {
      "cell_type": "code",
      "source": [
        "df['Abstract'] = df['Abstract'].str.replace(', ', '_').str.replace(' ', '').str.replace(\"_\", \", \")"
      ],
      "metadata": {
        "id": "hkNOuXweq9gp"
      },
      "execution_count": null,
      "outputs": []
    },
    {
      "cell_type": "code",
      "source": [
        "df.iloc[0].Abstract"
      ],
      "metadata": {
        "colab": {
          "base_uri": "https://localhost:8080/",
          "height": 171
        },
        "id": "_NrVIGBeuuEM",
        "outputId": "6a72126f-49cb-4dd5-87f9-a74ed5b367f2"
      },
      "execution_count": null,
      "outputs": [
        {
          "output_type": "execute_result",
          "data": {
            "text/plain": [
              "\"[Understanding, computer, system, hardware, is, basic, for, the, undergraduate, student, which, study, in, the, computer, area., System, user, always, needs, a, faster,, cheap, and, reliable, process, which, is, conducted, by, it, computer, system, self., To, fulfill, that, process, is, required, how, a, computer, works, from, their, design, and, how, they, operate., That, course, is, conducted, by, Computer, Architecture, and, Organization, (CAO), course., Two, computer, undergraduate, area, which, studies, CAO, is, Computer, Engineering, (CE), and, Computer, Science, (CS)., To, support, great, learning, at, CAO, both, CE, and, CS, needs, to, not, just, study, which, has, a, material, course, but, they, had, to, practically, study, computer, architecture, and, design, by, the, simulator., Why, simulator, is, chosen,, because, to, create, computer, such, as, CPU,, RAM, etc., needs, big, systems, that, can, manufacture, them., Nowadays, too, much, freely, available, simulator, that, can, be, downloaded, and, used, anytime,, but, not, all, simulators, meet, study, requirements, and, didn't, meet, the, CAO, Learning, Outcome., CS, and, CE, have, an, international, curriculum, that, given, by, ACM, Computing, Curricula., So, this, paper, is, discussed, what, kind, of, simulator, that, meets, Computing, Curricula, requirement, to, implement, at, learning, process, which, helps, the, instructor, to, choose, simulator, that, can, be, able, to, grasp, knowledge, that, delivered, to, the, student.]\""
            ],
            "application/vnd.google.colaboratory.intrinsic+json": {
              "type": "string"
            }
          },
          "metadata": {},
          "execution_count": 122
        }
      ]
    },
    {
      "cell_type": "code",
      "source": [
        "df.iloc[0].Author_Keywords"
      ],
      "metadata": {
        "colab": {
          "base_uri": "https://localhost:8080/",
          "height": 35
        },
        "id": "SfIk4cOwtDOj",
        "outputId": "2f226b42-4103-476c-e330-c515ede2707a"
      },
      "execution_count": null,
      "outputs": [
        {
          "output_type": "execute_result",
          "data": {
            "text/plain": [
              "'[ComputerOrganizationandArchitecture, ComputerEngineering, ComputerScience, Simulator]'"
            ],
            "application/vnd.google.colaboratory.intrinsic+json": {
              "type": "string"
            }
          },
          "metadata": {},
          "execution_count": 123
        }
      ]
    },
    {
      "cell_type": "code",
      "source": [
        "df.iloc[0].IEEE_Terms"
      ],
      "metadata": {
        "colab": {
          "base_uri": "https://localhost:8080/",
          "height": 35
        },
        "id": "Y-r7YwDvtG-9",
        "outputId": "1c504555-c4e5-41c2-be5a-03e091bab9fe"
      },
      "execution_count": null,
      "outputs": [
        {
          "output_type": "execute_result",
          "data": {
            "text/plain": [
              "'[Organizations, Computerscience, Standardsorganizations, Multicoreprocessing, Instructionsets]'"
            ],
            "application/vnd.google.colaboratory.intrinsic+json": {
              "type": "string"
            }
          },
          "metadata": {},
          "execution_count": 124
        }
      ]
    },
    {
      "cell_type": "code",
      "source": [
        "df.iloc[0].INSPEC_Controlled_Terms"
      ],
      "metadata": {
        "colab": {
          "base_uri": "https://localhost:8080/",
          "height": 52
        },
        "id": "odrY7zwUtL3t",
        "outputId": "f6b9fa5b-cc73-424d-d5ab-f26c1825e7b9"
      },
      "execution_count": null,
      "outputs": [
        {
          "output_type": "execute_result",
          "data": {
            "text/plain": [
              "'[computeraidedinstruction, computerscienceeducation, digitalsimulation, educationalcourses, softwareengineering, teaching]'"
            ],
            "application/vnd.google.colaboratory.intrinsic+json": {
              "type": "string"
            }
          },
          "metadata": {},
          "execution_count": 125
        }
      ]
    },
    {
      "cell_type": "code",
      "source": [
        "df.iloc[0].Abstract"
      ],
      "metadata": {
        "colab": {
          "base_uri": "https://localhost:8080/",
          "height": 171
        },
        "id": "-cSpbTyMtQ14",
        "outputId": "904a4a41-6e0b-4ca9-9eb0-4e271aefaa2b"
      },
      "execution_count": null,
      "outputs": [
        {
          "output_type": "execute_result",
          "data": {
            "text/plain": [
              "\"[Understanding, computer, system, hardware, is, basic, for, the, undergraduate, student, which, study, in, the, computer, area., System, user, always, needs, a, faster,, cheap, and, reliable, process, which, is, conducted, by, it, computer, system, self., To, fulfill, that, process, is, required, how, a, computer, works, from, their, design, and, how, they, operate., That, course, is, conducted, by, Computer, Architecture, and, Organization, (CAO), course., Two, computer, undergraduate, area, which, studies, CAO, is, Computer, Engineering, (CE), and, Computer, Science, (CS)., To, support, great, learning, at, CAO, both, CE, and, CS, needs, to, not, just, study, which, has, a, material, course, but, they, had, to, practically, study, computer, architecture, and, design, by, the, simulator., Why, simulator, is, chosen,, because, to, create, computer, such, as, CPU,, RAM, etc., needs, big, systems, that, can, manufacture, them., Nowadays, too, much, freely, available, simulator, that, can, be, downloaded, and, used, anytime,, but, not, all, simulators, meet, study, requirements, and, didn't, meet, the, CAO, Learning, Outcome., CS, and, CE, have, an, international, curriculum, that, given, by, ACM, Computing, Curricula., So, this, paper, is, discussed, what, kind, of, simulator, that, meets, Computing, Curricula, requirement, to, implement, at, learning, process, which, helps, the, instructor, to, choose, simulator, that, can, be, able, to, grasp, knowledge, that, delivered, to, the, student.]\""
            ],
            "application/vnd.google.colaboratory.intrinsic+json": {
              "type": "string"
            }
          },
          "metadata": {},
          "execution_count": 126
        }
      ]
    },
    {
      "cell_type": "code",
      "source": [
        "df['tags'] = df['Author_Keywords'] + df['IEEE_Terms'] + df['INSPEC_Controlled_Terms'] + df['Abstract']"
      ],
      "metadata": {
        "id": "sjLvGgtokO5e"
      },
      "execution_count": null,
      "outputs": []
    },
    {
      "cell_type": "code",
      "source": [
        "df.iloc[0].tags"
      ],
      "metadata": {
        "colab": {
          "base_uri": "https://localhost:8080/",
          "height": 171
        },
        "id": "cehZwbWnxZqW",
        "outputId": "68296712-eb99-4399-ec17-f370de5c2b1e"
      },
      "execution_count": null,
      "outputs": [
        {
          "output_type": "execute_result",
          "data": {
            "text/plain": [
              "\"[ComputerOrganizationandArchitecture, ComputerEngineering, ComputerScience, Simulator][Organizations, Computerscience, Standardsorganizations, Multicoreprocessing, Instructionsets][computeraidedinstruction, computerscienceeducation, digitalsimulation, educationalcourses, softwareengineering, teaching][Understanding, computer, system, hardware, is, basic, for, the, undergraduate, student, which, study, in, the, computer, area., System, user, always, needs, a, faster,, cheap, and, reliable, process, which, is, conducted, by, it, computer, system, self., To, fulfill, that, process, is, required, how, a, computer, works, from, their, design, and, how, they, operate., That, course, is, conducted, by, Computer, Architecture, and, Organization, (CAO), course., Two, computer, undergraduate, area, which, studies, CAO, is, Computer, Engineering, (CE), and, Computer, Science, (CS)., To, support, great, learning, at, CAO, both, CE, and, CS, needs, to, not, just, study, which, has, a, material, course, but, they, had, to, practically, study, computer, architecture, and, design, by, the, simulator., Why, simulator, is, chosen,, because, to, create, computer, such, as, CPU,, RAM, etc., needs, big, systems, that, can, manufacture, them., Nowadays, too, much, freely, available, simulator, that, can, be, downloaded, and, used, anytime,, but, not, all, simulators, meet, study, requirements, and, didn't, meet, the, CAO, Learning, Outcome., CS, and, CE, have, an, international, curriculum, that, given, by, ACM, Computing, Curricula., So, this, paper, is, discussed, what, kind, of, simulator, that, meets, Computing, Curricula, requirement, to, implement, at, learning, process, which, helps, the, instructor, to, choose, simulator, that, can, be, able, to, grasp, knowledge, that, delivered, to, the, student.]\""
            ],
            "application/vnd.google.colaboratory.intrinsic+json": {
              "type": "string"
            }
          },
          "metadata": {},
          "execution_count": 128
        }
      ]
    },
    {
      "cell_type": "code",
      "source": [
        "type(df.iloc[0].tags)"
      ],
      "metadata": {
        "colab": {
          "base_uri": "https://localhost:8080/"
        },
        "id": "iXIB6Uhu1mFP",
        "outputId": "d4f78ae4-8c76-47e0-e14c-66016dd693a3"
      },
      "execution_count": null,
      "outputs": [
        {
          "output_type": "execute_result",
          "data": {
            "text/plain": [
              "str"
            ]
          },
          "metadata": {},
          "execution_count": 129
        }
      ]
    },
    {
      "cell_type": "code",
      "source": [
        "df['tags'] = df['tags'].str.replace(', ', '_').str.replace('[', '').str.replace(\"_\", \", \")"
      ],
      "metadata": {
        "colab": {
          "base_uri": "https://localhost:8080/"
        },
        "id": "g7IcdPxSgwLk",
        "outputId": "a00cff85-c672-45cd-8f30-985cea3452f8"
      },
      "execution_count": null,
      "outputs": [
        {
          "output_type": "stream",
          "name": "stderr",
          "text": [
            "<ipython-input-130-a45f7e5f72b7>:1: FutureWarning: The default value of regex will change from True to False in a future version. In addition, single character regular expressions will *not* be treated as literal strings when regex=True.\n",
            "  df['tags'] = df['tags'].str.replace(', ', '_').str.replace('[', '').str.replace(\"_\", \", \")\n"
          ]
        }
      ]
    },
    {
      "cell_type": "code",
      "source": [
        "df['tags'][1]"
      ],
      "metadata": {
        "colab": {
          "base_uri": "https://localhost:8080/",
          "height": 171
        },
        "id": "DpaPX9Dp2a2A",
        "outputId": "198c6d34-8a41-488e-9681-0ae58aa5a93b"
      },
      "execution_count": null,
      "outputs": [
        {
          "output_type": "execute_result",
          "data": {
            "text/plain": [
              "\"ComputerOrganizationandArchitecture, ComputerEngineering, ComputerScience, Simulator]Organizations, Computerscience, Standardsorganizations, Multicoreprocessing, Instructionsets]computeraidedinstruction, computerscienceeducation, digitalsimulation, educationalcourses, softwareengineering, teaching]Understanding, computer, system, hardware, is, basic, for, the, undergraduate, student, which, study, in, the, computer, area., System, user, always, needs, a, faster,, cheap, and, reliable, process, which, is, conducted, by, it, computer, system, self., To, fulfill, that, process, is, required, how, a, computer, works, from, their, design, and, how, they, operate., That, course, is, conducted, by, Computer, Architecture, and, Organization, (CAO), course., Two, computer, undergraduate, area, which, studies, CAO, is, Computer, Engineering, (CE), and, Computer, Science, (CS)., To, support, great, learning, at, CAO, both, CE, and, CS, needs, to, not, just, study, which, has, a, material, course, but, they, had, to, practically, study, computer, architecture, and, design, by, the, simulator., Why, simulator, is, chosen,, because, to, create, computer, such, as, CPU,, RAM, etc., needs, big, systems, that, can, manufacture, them., Nowadays, too, much, freely, available, simulator, that, can, be, downloaded, and, used, anytime,, but, not, all, simulators, meet, study, requirements, and, didn't, meet, the, CAO, Learning, Outcome., CS, and, CE, have, an, international, curriculum, that, given, by, ACM, Computing, Curricula., So, this, paper, is, discussed, what, kind, of, simulator, that, meets, Computing, Curricula, requirement, to, implement, at, learning, process, which, helps, the, instructor, to, choose, simulator, that, can, be, able, to, grasp, knowledge, that, delivered, to, the, student.]\""
            ],
            "application/vnd.google.colaboratory.intrinsic+json": {
              "type": "string"
            }
          },
          "metadata": {},
          "execution_count": 131
        }
      ]
    },
    {
      "cell_type": "code",
      "source": [
        "new_df = df[['Document_Title', 'tags']]"
      ],
      "metadata": {
        "id": "5ptg1aploERz"
      },
      "execution_count": null,
      "outputs": []
    },
    {
      "cell_type": "code",
      "source": [
        "new_df['tags'].apply(lambda x:\"\".join(x))"
      ],
      "metadata": {
        "colab": {
          "base_uri": "https://localhost:8080/"
        },
        "id": "SvD00is1oh06",
        "outputId": "63ac71f4-3988-4bc5-e684-34d5cfa937c2"
      },
      "execution_count": null,
      "outputs": [
        {
          "output_type": "execute_result",
          "data": {
            "text/plain": [
              "1       ComputerOrganizationandArchitecture, ComputerE...\n",
              "2       Educationreform, fundamentallogic, computerdes...\n",
              "3       computertalent, computereducation, trainingmod...\n",
              "4       computerfundamentaleducation, ComputationalThi...\n",
              "5       instructionaldesign, computersystemfundamental...\n",
              "                              ...                        \n",
              "1990    Wearablecomputer, Pointingdevice, DragandDropt...\n",
              "1994    Datasecurity, ITsecurity, ComputerForensics, C...\n",
              "1995    curriculumdesign, computerscience, liberalarts...\n",
              "1996    TheoreticalComputerScience, Parsing, FiniteSta...\n",
              "1997    computerliteracy, ECDL, coursedesign, pedagogy...\n",
              "Name: tags, Length: 1597, dtype: object"
            ]
          },
          "metadata": {},
          "execution_count": 133
        }
      ]
    },
    {
      "cell_type": "code",
      "source": [
        "new_df['tags'] = new_df['tags'].apply(lambda x:\"\".join(x))"
      ],
      "metadata": {
        "colab": {
          "base_uri": "https://localhost:8080/"
        },
        "id": "vIwT08mYopBv",
        "outputId": "3977cd75-b5b0-4bcd-96cf-c30b24bd9afe"
      },
      "execution_count": null,
      "outputs": [
        {
          "output_type": "stream",
          "name": "stderr",
          "text": [
            "<ipython-input-134-58a64e713168>:1: SettingWithCopyWarning: \n",
            "A value is trying to be set on a copy of a slice from a DataFrame.\n",
            "Try using .loc[row_indexer,col_indexer] = value instead\n",
            "\n",
            "See the caveats in the documentation: https://pandas.pydata.org/pandas-docs/stable/user_guide/indexing.html#returning-a-view-versus-a-copy\n",
            "  new_df['tags'] = new_df['tags'].apply(lambda x:\"\".join(x))\n"
          ]
        }
      ]
    },
    {
      "cell_type": "code",
      "source": [
        "new_df['tags'][1]"
      ],
      "metadata": {
        "id": "76j49cG_pZ_f",
        "outputId": "027fde10-0baa-4cb4-cf57-cae18c1eb3b4",
        "colab": {
          "base_uri": "https://localhost:8080/",
          "height": 171
        }
      },
      "execution_count": null,
      "outputs": [
        {
          "output_type": "execute_result",
          "data": {
            "text/plain": [
              "\"ComputerOrganizationandArchitecture, ComputerEngineering, ComputerScience, Simulator]Organizations, Computerscience, Standardsorganizations, Multicoreprocessing, Instructionsets]computeraidedinstruction, computerscienceeducation, digitalsimulation, educationalcourses, softwareengineering, teaching]Understanding, computer, system, hardware, is, basic, for, the, undergraduate, student, which, study, in, the, computer, area., System, user, always, needs, a, faster,, cheap, and, reliable, process, which, is, conducted, by, it, computer, system, self., To, fulfill, that, process, is, required, how, a, computer, works, from, their, design, and, how, they, operate., That, course, is, conducted, by, Computer, Architecture, and, Organization, (CAO), course., Two, computer, undergraduate, area, which, studies, CAO, is, Computer, Engineering, (CE), and, Computer, Science, (CS)., To, support, great, learning, at, CAO, both, CE, and, CS, needs, to, not, just, study, which, has, a, material, course, but, they, had, to, practically, study, computer, architecture, and, design, by, the, simulator., Why, simulator, is, chosen,, because, to, create, computer, such, as, CPU,, RAM, etc., needs, big, systems, that, can, manufacture, them., Nowadays, too, much, freely, available, simulator, that, can, be, downloaded, and, used, anytime,, but, not, all, simulators, meet, study, requirements, and, didn't, meet, the, CAO, Learning, Outcome., CS, and, CE, have, an, international, curriculum, that, given, by, ACM, Computing, Curricula., So, this, paper, is, discussed, what, kind, of, simulator, that, meets, Computing, Curricula, requirement, to, implement, at, learning, process, which, helps, the, instructor, to, choose, simulator, that, can, be, able, to, grasp, knowledge, that, delivered, to, the, student.]\""
            ],
            "application/vnd.google.colaboratory.intrinsic+json": {
              "type": "string"
            }
          },
          "metadata": {},
          "execution_count": 135
        }
      ]
    },
    {
      "cell_type": "code",
      "source": [
        "new_df['tags'] = new_df['tags'].str.replace(',', ' ')"
      ],
      "metadata": {
        "colab": {
          "base_uri": "https://localhost:8080/"
        },
        "id": "Qn3r4ecMhIdj",
        "outputId": "99775d38-3ab1-4cdb-b081-08e4fea2411a"
      },
      "execution_count": null,
      "outputs": [
        {
          "output_type": "stream",
          "name": "stderr",
          "text": [
            "<ipython-input-136-a989e256baaf>:1: SettingWithCopyWarning: \n",
            "A value is trying to be set on a copy of a slice from a DataFrame.\n",
            "Try using .loc[row_indexer,col_indexer] = value instead\n",
            "\n",
            "See the caveats in the documentation: https://pandas.pydata.org/pandas-docs/stable/user_guide/indexing.html#returning-a-view-versus-a-copy\n",
            "  new_df['tags'] = new_df['tags'].str.replace(',', ' ')\n"
          ]
        }
      ]
    },
    {
      "cell_type": "code",
      "source": [
        "new_df['tags'] = new_df['tags'].str.replace(']', ' ')"
      ],
      "metadata": {
        "colab": {
          "base_uri": "https://localhost:8080/"
        },
        "id": "7VuK1pfkh4Qs",
        "outputId": "80ca81b1-497d-4899-ca3b-31e9f35df11a"
      },
      "execution_count": null,
      "outputs": [
        {
          "output_type": "stream",
          "name": "stderr",
          "text": [
            "<ipython-input-137-d80236f32a1b>:1: FutureWarning: The default value of regex will change from True to False in a future version. In addition, single character regular expressions will *not* be treated as literal strings when regex=True.\n",
            "  new_df['tags'] = new_df['tags'].str.replace(']', ' ')\n",
            "<ipython-input-137-d80236f32a1b>:1: SettingWithCopyWarning: \n",
            "A value is trying to be set on a copy of a slice from a DataFrame.\n",
            "Try using .loc[row_indexer,col_indexer] = value instead\n",
            "\n",
            "See the caveats in the documentation: https://pandas.pydata.org/pandas-docs/stable/user_guide/indexing.html#returning-a-view-versus-a-copy\n",
            "  new_df['tags'] = new_df['tags'].str.replace(']', ' ')\n"
          ]
        }
      ]
    },
    {
      "cell_type": "code",
      "source": [
        "new_df['tags'][1]"
      ],
      "metadata": {
        "colab": {
          "base_uri": "https://localhost:8080/",
          "height": 171
        },
        "id": "Fm-IYerChSgU",
        "outputId": "9c0ba5e0-7cc5-40d9-b820-fe11b1e801e7"
      },
      "execution_count": null,
      "outputs": [
        {
          "output_type": "execute_result",
          "data": {
            "text/plain": [
              "\"ComputerOrganizationandArchitecture  ComputerEngineering  ComputerScience  Simulator Organizations  Computerscience  Standardsorganizations  Multicoreprocessing  Instructionsets computeraidedinstruction  computerscienceeducation  digitalsimulation  educationalcourses  softwareengineering  teaching Understanding  computer  system  hardware  is  basic  for  the  undergraduate  student  which  study  in  the  computer  area.  System  user  always  needs  a  faster   cheap  and  reliable  process  which  is  conducted  by  it  computer  system  self.  To  fulfill  that  process  is  required  how  a  computer  works  from  their  design  and  how  they  operate.  That  course  is  conducted  by  Computer  Architecture  and  Organization  (CAO)  course.  Two  computer  undergraduate  area  which  studies  CAO  is  Computer  Engineering  (CE)  and  Computer  Science  (CS).  To  support  great  learning  at  CAO  both  CE  and  CS  needs  to  not  just  study  which  has  a  material  course  but  they  had  to  practically  study  computer  architecture  and  design  by  the  simulator.  Why  simulator  is  chosen   because  to  create  computer  such  as  CPU   RAM  etc.  needs  big  systems  that  can  manufacture  them.  Nowadays  too  much  freely  available  simulator  that  can  be  downloaded  and  used  anytime   but  not  all  simulators  meet  study  requirements  and  didn't  meet  the  CAO  Learning  Outcome.  CS  and  CE  have  an  international  curriculum  that  given  by  ACM  Computing  Curricula.  So  this  paper  is  discussed  what  kind  of  simulator  that  meets  Computing  Curricula  requirement  to  implement  at  learning  process  which  helps  the  instructor  to  choose  simulator  that  can  be  able  to  grasp  knowledge  that  delivered  to  the  student. \""
            ],
            "application/vnd.google.colaboratory.intrinsic+json": {
              "type": "string"
            }
          },
          "metadata": {},
          "execution_count": 138
        }
      ]
    },
    {
      "cell_type": "code",
      "source": [
        "new_df['tags'] = new_df['tags'].apply(lambda x:x.lower())"
      ],
      "metadata": {
        "colab": {
          "base_uri": "https://localhost:8080/"
        },
        "id": "ID7cG8NRiBq1",
        "outputId": "68b60f2f-b71e-4796-9a69-7ee25b12e9f4"
      },
      "execution_count": null,
      "outputs": [
        {
          "output_type": "stream",
          "name": "stderr",
          "text": [
            "<ipython-input-139-8b60b591a07f>:1: SettingWithCopyWarning: \n",
            "A value is trying to be set on a copy of a slice from a DataFrame.\n",
            "Try using .loc[row_indexer,col_indexer] = value instead\n",
            "\n",
            "See the caveats in the documentation: https://pandas.pydata.org/pandas-docs/stable/user_guide/indexing.html#returning-a-view-versus-a-copy\n",
            "  new_df['tags'] = new_df['tags'].apply(lambda x:x.lower())\n"
          ]
        }
      ]
    },
    {
      "cell_type": "code",
      "source": [
        "new_df.head()"
      ],
      "metadata": {
        "colab": {
          "base_uri": "https://localhost:8080/",
          "height": 204
        },
        "id": "4nBF-w-EiXc9",
        "outputId": "60b2e40b-88e5-47fa-d1d4-d705b43c029a"
      },
      "execution_count": null,
      "outputs": [
        {
          "output_type": "execute_result",
          "data": {
            "text/plain": [
              "                                      Document_Title  \\\n",
              "1  Teaching and learning support for computer arc...   \n",
              "2  Introduction to the Reform on the Course of Fu...   \n",
              "3  Research and practice on computer talent train...   \n",
              "4  Computational thinking and computer fundamenta...   \n",
              "5  Instructional Design of Computer System Fundam...   \n",
              "\n",
              "                                                tags  \n",
              "1  computerorganizationandarchitecture  computere...  \n",
              "2  educationreform  fundamentallogic  computerdes...  \n",
              "3  computertalent  computereducation  trainingmod...  \n",
              "4  computerfundamentaleducation  computationalthi...  \n",
              "5  instructionaldesign  computersystemfundamental...  "
            ],
            "text/html": [
              "\n",
              "  <div id=\"df-08f8c973-cefa-451a-83f7-6fe4fe040758\">\n",
              "    <div class=\"colab-df-container\">\n",
              "      <div>\n",
              "<style scoped>\n",
              "    .dataframe tbody tr th:only-of-type {\n",
              "        vertical-align: middle;\n",
              "    }\n",
              "\n",
              "    .dataframe tbody tr th {\n",
              "        vertical-align: top;\n",
              "    }\n",
              "\n",
              "    .dataframe thead th {\n",
              "        text-align: right;\n",
              "    }\n",
              "</style>\n",
              "<table border=\"1\" class=\"dataframe\">\n",
              "  <thead>\n",
              "    <tr style=\"text-align: right;\">\n",
              "      <th></th>\n",
              "      <th>Document_Title</th>\n",
              "      <th>tags</th>\n",
              "    </tr>\n",
              "  </thead>\n",
              "  <tbody>\n",
              "    <tr>\n",
              "      <th>1</th>\n",
              "      <td>Teaching and learning support for computer arc...</td>\n",
              "      <td>computerorganizationandarchitecture  computere...</td>\n",
              "    </tr>\n",
              "    <tr>\n",
              "      <th>2</th>\n",
              "      <td>Introduction to the Reform on the Course of Fu...</td>\n",
              "      <td>educationreform  fundamentallogic  computerdes...</td>\n",
              "    </tr>\n",
              "    <tr>\n",
              "      <th>3</th>\n",
              "      <td>Research and practice on computer talent train...</td>\n",
              "      <td>computertalent  computereducation  trainingmod...</td>\n",
              "    </tr>\n",
              "    <tr>\n",
              "      <th>4</th>\n",
              "      <td>Computational thinking and computer fundamenta...</td>\n",
              "      <td>computerfundamentaleducation  computationalthi...</td>\n",
              "    </tr>\n",
              "    <tr>\n",
              "      <th>5</th>\n",
              "      <td>Instructional Design of Computer System Fundam...</td>\n",
              "      <td>instructionaldesign  computersystemfundamental...</td>\n",
              "    </tr>\n",
              "  </tbody>\n",
              "</table>\n",
              "</div>\n",
              "      <button class=\"colab-df-convert\" onclick=\"convertToInteractive('df-08f8c973-cefa-451a-83f7-6fe4fe040758')\"\n",
              "              title=\"Convert this dataframe to an interactive table.\"\n",
              "              style=\"display:none;\">\n",
              "        \n",
              "  <svg xmlns=\"http://www.w3.org/2000/svg\" height=\"24px\"viewBox=\"0 0 24 24\"\n",
              "       width=\"24px\">\n",
              "    <path d=\"M0 0h24v24H0V0z\" fill=\"none\"/>\n",
              "    <path d=\"M18.56 5.44l.94 2.06.94-2.06 2.06-.94-2.06-.94-.94-2.06-.94 2.06-2.06.94zm-11 1L8.5 8.5l.94-2.06 2.06-.94-2.06-.94L8.5 2.5l-.94 2.06-2.06.94zm10 10l.94 2.06.94-2.06 2.06-.94-2.06-.94-.94-2.06-.94 2.06-2.06.94z\"/><path d=\"M17.41 7.96l-1.37-1.37c-.4-.4-.92-.59-1.43-.59-.52 0-1.04.2-1.43.59L10.3 9.45l-7.72 7.72c-.78.78-.78 2.05 0 2.83L4 21.41c.39.39.9.59 1.41.59.51 0 1.02-.2 1.41-.59l7.78-7.78 2.81-2.81c.8-.78.8-2.07 0-2.86zM5.41 20L4 18.59l7.72-7.72 1.47 1.35L5.41 20z\"/>\n",
              "  </svg>\n",
              "      </button>\n",
              "      \n",
              "  <style>\n",
              "    .colab-df-container {\n",
              "      display:flex;\n",
              "      flex-wrap:wrap;\n",
              "      gap: 12px;\n",
              "    }\n",
              "\n",
              "    .colab-df-convert {\n",
              "      background-color: #E8F0FE;\n",
              "      border: none;\n",
              "      border-radius: 50%;\n",
              "      cursor: pointer;\n",
              "      display: none;\n",
              "      fill: #1967D2;\n",
              "      height: 32px;\n",
              "      padding: 0 0 0 0;\n",
              "      width: 32px;\n",
              "    }\n",
              "\n",
              "    .colab-df-convert:hover {\n",
              "      background-color: #E2EBFA;\n",
              "      box-shadow: 0px 1px 2px rgba(60, 64, 67, 0.3), 0px 1px 3px 1px rgba(60, 64, 67, 0.15);\n",
              "      fill: #174EA6;\n",
              "    }\n",
              "\n",
              "    [theme=dark] .colab-df-convert {\n",
              "      background-color: #3B4455;\n",
              "      fill: #D2E3FC;\n",
              "    }\n",
              "\n",
              "    [theme=dark] .colab-df-convert:hover {\n",
              "      background-color: #434B5C;\n",
              "      box-shadow: 0px 1px 3px 1px rgba(0, 0, 0, 0.15);\n",
              "      filter: drop-shadow(0px 1px 2px rgba(0, 0, 0, 0.3));\n",
              "      fill: #FFFFFF;\n",
              "    }\n",
              "  </style>\n",
              "\n",
              "      <script>\n",
              "        const buttonEl =\n",
              "          document.querySelector('#df-08f8c973-cefa-451a-83f7-6fe4fe040758 button.colab-df-convert');\n",
              "        buttonEl.style.display =\n",
              "          google.colab.kernel.accessAllowed ? 'block' : 'none';\n",
              "\n",
              "        async function convertToInteractive(key) {\n",
              "          const element = document.querySelector('#df-08f8c973-cefa-451a-83f7-6fe4fe040758');\n",
              "          const dataTable =\n",
              "            await google.colab.kernel.invokeFunction('convertToInteractive',\n",
              "                                                     [key], {});\n",
              "          if (!dataTable) return;\n",
              "\n",
              "          const docLinkHtml = 'Like what you see? Visit the ' +\n",
              "            '<a target=\"_blank\" href=https://colab.research.google.com/notebooks/data_table.ipynb>data table notebook</a>'\n",
              "            + ' to learn more about interactive tables.';\n",
              "          element.innerHTML = '';\n",
              "          dataTable['output_type'] = 'display_data';\n",
              "          await google.colab.output.renderOutput(dataTable, element);\n",
              "          const docLink = document.createElement('div');\n",
              "          docLink.innerHTML = docLinkHtml;\n",
              "          element.appendChild(docLink);\n",
              "        }\n",
              "      </script>\n",
              "    </div>\n",
              "  </div>\n",
              "  "
            ]
          },
          "metadata": {},
          "execution_count": 140
        }
      ]
    },
    {
      "cell_type": "code",
      "source": [
        "import nltk"
      ],
      "metadata": {
        "id": "c77yuAYAqHSG"
      },
      "execution_count": null,
      "outputs": []
    },
    {
      "cell_type": "code",
      "source": [
        "from nltk.stem.porter import PorterStemmer\n",
        "ps = PorterStemmer()"
      ],
      "metadata": {
        "id": "bXw2Zdjkrvi7"
      },
      "execution_count": null,
      "outputs": []
    },
    {
      "cell_type": "code",
      "source": [
        "def stem(text):\n",
        "  y = []\n",
        "\n",
        "  for i in text.split():\n",
        "    y.append(ps.stem(i))\n",
        "    return \" \".join(y)"
      ],
      "metadata": {
        "id": "RXCf_pzAsAGC"
      },
      "execution_count": null,
      "outputs": []
    },
    {
      "cell_type": "code",
      "source": [
        "ps.stem('computer')"
      ],
      "metadata": {
        "colab": {
          "base_uri": "https://localhost:8080/",
          "height": 35
        },
        "id": "1e_PMPO2sgYo",
        "outputId": "df0288ca-2f58-4163-8624-d5970b8d614f"
      },
      "execution_count": null,
      "outputs": [
        {
          "output_type": "execute_result",
          "data": {
            "text/plain": [
              "'comput'"
            ],
            "application/vnd.google.colaboratory.intrinsic+json": {
              "type": "string"
            }
          },
          "metadata": {},
          "execution_count": 144
        }
      ]
    },
    {
      "cell_type": "code",
      "source": [
        "ps.stem('ComputerOrganizationandArchitecture  ComputerEngineering  ComputerScience  Simulator Organizations  Computerscience  Standardsorganizations  Multicoreprocessing  Instructionsets computeraidedinstruction  computerscienceeducation  digitalsimulation  educationalcourses  softwareengineering  teaching Understanding  computer  system  hardware  is  basic  for  the  undergraduate  student  which  study  in  the  computer  area.  System  user  always  needs  a  faster   cheap  and  reliable  process  which  is  conducted  by  it  computer  system  self.  To  fulfill  that  process  is  required  how  a  computer  works  from  their  design  and  how  they  operate.  That  course  is  conducted  by  Computer  Architecture  and  Organization  (CAO)  course.  Two  computer  undergraduate  area  which  studies  CAO  is  Computer  Engineering  (CE)  and  Computer  Science  (CS).  To  support  great  learning  at  CAO  both  CE  and  CS  needs  to  not  just  study  which  has  a  material  course ')"
      ],
      "metadata": {
        "colab": {
          "base_uri": "https://localhost:8080/",
          "height": 171
        },
        "id": "SfqSf2jmspuH",
        "outputId": "909d5055-36a8-4ef1-ca79-10bcbee949ba"
      },
      "execution_count": null,
      "outputs": [
        {
          "output_type": "execute_result",
          "data": {
            "text/plain": [
              "'computerorganizationandarchitecture  computerengineering  computerscience  simulator organizations  computerscience  standardsorganizations  multicoreprocessing  instructionsets computeraidedinstruction  computerscienceeducation  digitalsimulation  educationalcourses  softwareengineering  teaching understanding  computer  system  hardware  is  basic  for  the  undergraduate  student  which  study  in  the  computer  area.  system  user  always  needs  a  faster   cheap  and  reliable  process  which  is  conducted  by  it  computer  system  self.  to  fulfill  that  process  is  required  how  a  computer  works  from  their  design  and  how  they  operate.  that  course  is  conducted  by  computer  architecture  and  organization  (cao)  course.  two  computer  undergraduate  area  which  studies  cao  is  computer  engineering  (ce)  and  computer  science  (cs).  to  support  great  learning  at  cao  both  ce  and  cs  needs  to  not  just  study  which  has  a  material  course '"
            ],
            "application/vnd.google.colaboratory.intrinsic+json": {
              "type": "string"
            }
          },
          "metadata": {},
          "execution_count": 145
        }
      ]
    },
    {
      "cell_type": "code",
      "source": [
        "new_df['tags'] = new_df['tags'].apply(ps.stem)"
      ],
      "metadata": {
        "colab": {
          "base_uri": "https://localhost:8080/"
        },
        "id": "keeeIz8Vtc9I",
        "outputId": "50eb7a2d-d7b4-411e-ee11-cdbdc18c863f"
      },
      "execution_count": null,
      "outputs": [
        {
          "output_type": "stream",
          "name": "stderr",
          "text": [
            "<ipython-input-146-b5038d38ad34>:1: SettingWithCopyWarning: \n",
            "A value is trying to be set on a copy of a slice from a DataFrame.\n",
            "Try using .loc[row_indexer,col_indexer] = value instead\n",
            "\n",
            "See the caveats in the documentation: https://pandas.pydata.org/pandas-docs/stable/user_guide/indexing.html#returning-a-view-versus-a-copy\n",
            "  new_df['tags'] = new_df['tags'].apply(ps.stem)\n"
          ]
        }
      ]
    },
    {
      "cell_type": "code",
      "source": [],
      "metadata": {
        "id": "mFCIszSCt4oG"
      },
      "execution_count": null,
      "outputs": []
    },
    {
      "cell_type": "code",
      "source": [
        "import sklearn as sk"
      ],
      "metadata": {
        "id": "VdBWw_-Nn-o_"
      },
      "execution_count": null,
      "outputs": []
    },
    {
      "cell_type": "code",
      "source": [
        "from sklearn.feature_extraction.text import CountVectorizer\n",
        "cv = CountVectorizer(max_features=5000,stop_words='english')"
      ],
      "metadata": {
        "id": "zDMfcyNhn0rf"
      },
      "execution_count": null,
      "outputs": []
    },
    {
      "cell_type": "code",
      "source": [
        "vectors = cv.fit_transform(new_df['tags']).toarray()"
      ],
      "metadata": {
        "id": "GgXSOoZtpEnn"
      },
      "execution_count": null,
      "outputs": []
    },
    {
      "cell_type": "code",
      "source": [
        "vectors"
      ],
      "metadata": {
        "colab": {
          "base_uri": "https://localhost:8080/"
        },
        "id": "y8lR_l3zpYbM",
        "outputId": "d920e926-e058-4beb-9c61-323e36174fac"
      },
      "execution_count": null,
      "outputs": [
        {
          "output_type": "execute_result",
          "data": {
            "text/plain": [
              "array([[0, 0, 0, ..., 0, 0, 0],\n",
              "       [0, 0, 0, ..., 0, 1, 0],\n",
              "       [0, 0, 0, ..., 0, 0, 0],\n",
              "       ...,\n",
              "       [0, 0, 0, ..., 0, 0, 0],\n",
              "       [0, 0, 0, ..., 0, 0, 0],\n",
              "       [0, 0, 0, ..., 0, 0, 0]])"
            ]
          },
          "metadata": {},
          "execution_count": 150
        }
      ]
    },
    {
      "cell_type": "code",
      "source": [
        "vectors[0]"
      ],
      "metadata": {
        "colab": {
          "base_uri": "https://localhost:8080/"
        },
        "id": "9GHQc9s5pbXE",
        "outputId": "1721fa2b-6709-41ff-aa98-cd3ca07644f5"
      },
      "execution_count": null,
      "outputs": [
        {
          "output_type": "execute_result",
          "data": {
            "text/plain": [
              "array([0, 0, 0, ..., 0, 0, 0])"
            ]
          },
          "metadata": {},
          "execution_count": 151
        }
      ]
    },
    {
      "cell_type": "code",
      "source": [
        "cv.get_feature_names_out()"
      ],
      "metadata": {
        "colab": {
          "base_uri": "https://localhost:8080/"
        },
        "id": "zbV4PmTXpvf4",
        "outputId": "cb9d0284-287c-42e0-900e-32a1402086f9"
      },
      "execution_count": null,
      "outputs": [
        {
          "output_type": "execute_result",
          "data": {
            "text/plain": [
              "array(['000', '05', '10', ..., 'zero', 'zhejiang', 'zigbee'], dtype=object)"
            ]
          },
          "metadata": {},
          "execution_count": 152
        }
      ]
    },
    {
      "cell_type": "code",
      "source": [
        "cv.fit_transform(new_df['tags']).toarray().shape"
      ],
      "metadata": {
        "colab": {
          "base_uri": "https://localhost:8080/"
        },
        "id": "eyTzJ0Y8uNM9",
        "outputId": "9997c2f1-197e-4d02-f4b6-18dd554be23f"
      },
      "execution_count": null,
      "outputs": [
        {
          "output_type": "execute_result",
          "data": {
            "text/plain": [
              "(1597, 5000)"
            ]
          },
          "metadata": {},
          "execution_count": 153
        }
      ]
    },
    {
      "cell_type": "code",
      "source": [
        "from sklearn.metrics.pairwise import cosine_similarity"
      ],
      "metadata": {
        "id": "AdhUGLFEujvz"
      },
      "execution_count": null,
      "outputs": []
    },
    {
      "cell_type": "code",
      "source": [
        "similarity = cosine_similarity(vectors)"
      ],
      "metadata": {
        "id": "PoI9H4S5itC2"
      },
      "execution_count": null,
      "outputs": []
    },
    {
      "cell_type": "code",
      "source": [
        "similarity[0]"
      ],
      "metadata": {
        "colab": {
          "base_uri": "https://localhost:8080/"
        },
        "id": "QlYaNFfEnTPE",
        "outputId": "65cf7084-6189-42c9-b556-510d72e7cad6"
      },
      "execution_count": null,
      "outputs": [
        {
          "output_type": "execute_result",
          "data": {
            "text/plain": [
              "array([1.        , 0.47535544, 0.39334726, ..., 0.23897606, 0.23091721,\n",
              "       0.26556549])"
            ]
          },
          "metadata": {},
          "execution_count": 156
        }
      ]
    },
    {
      "cell_type": "code",
      "source": [
        "sorted(list(enumerate(similarity[5])), reverse=True, key=lambda x:x[1])[1:6]"
      ],
      "metadata": {
        "colab": {
          "base_uri": "https://localhost:8080/"
        },
        "id": "sg6nz7yzsOLL",
        "outputId": "6ab4e727-ee1d-491a-e687-366c4ce4f10a"
      },
      "execution_count": null,
      "outputs": [
        {
          "output_type": "execute_result",
          "data": {
            "text/plain": [
              "[(23, 0.49251270708184736),\n",
              " (1316, 0.45588752604657323),\n",
              " (1192, 0.40871504145715976),\n",
              " (78, 0.4015896734278442),\n",
              " (523, 0.3968980618112813)]"
            ]
          },
          "metadata": {},
          "execution_count": 157
        }
      ]
    },
    {
      "cell_type": "code",
      "source": [
        "def recommend(project):\n",
        "  project_index = new_df[new_df['Document_Title'] == project].index[0]\n",
        "  distances = similarity[project_index]\n",
        "  project_list = sorted(list(enumerate(distances)), reverse=True, key=lambda x:x[1])[1:6]\n",
        "\n",
        "  for i in project_list:\n",
        "    print(new_df.iloc[i[0]].Document_Title)\n"
      ],
      "metadata": {
        "id": "GD79ZTBSpwTW"
      },
      "execution_count": null,
      "outputs": []
    },
    {
      "cell_type": "code",
      "source": [
        "recommend('Computational thinking and computer fundamental education')"
      ],
      "metadata": {
        "colab": {
          "base_uri": "https://localhost:8080/"
        },
        "id": "3mE2yEUfp8r9",
        "outputId": "b1ada593-1506-4618-bc36-8a20ef33fbc8"
      },
      "execution_count": null,
      "outputs": [
        {
          "output_type": "stream",
          "name": "stdout",
          "text": [
            "Incorporating benchmark programming in the teaching of undergraduate Computer Architecture\n",
            "The Challenges and the Opportunities of Teaching the Introductory Computer Programming Course: Case Study\n",
            "Development of an Interactive Test System for Students' Improving Learning Outcomes in a Computer Programming Course\n",
            "A Research on the Fundamentality and Experimental Teaching Methods of the Course of \"University Computer\"\n",
            "Reform and Exploration of the Computer Graphics\n"
          ]
        }
      ]
    },
    {
      "cell_type": "code",
      "source": [
        "recommend('Application of NS2 in Education of Computer Networks')"
      ],
      "metadata": {
        "colab": {
          "base_uri": "https://localhost:8080/"
        },
        "id": "Y9-w0Go3xNAB",
        "outputId": "523de2b2-54b9-4e72-a7bf-bd20212c8d0d"
      },
      "execution_count": null,
      "outputs": [
        {
          "output_type": "stream",
          "name": "stdout",
          "text": [
            "Research and Practice of Computer Network Courses under the Background of Industry-University Cooperation\n",
            "Integrating Direct3D Programming into Computer Science Curriculum\n",
            "Study on teaching reform of computer networks course\n",
            "The Challenges and the Opportunities of Teaching the Introductory Computer Programming Course: Case Study\n",
            "Discussion on enhancing teaching of computer theory course for undergraduate with minor lecture hours\n"
          ]
        }
      ]
    },
    {
      "cell_type": "code",
      "source": [
        "import pickle"
      ],
      "metadata": {
        "id": "X2IFoN3PxeJL"
      },
      "execution_count": null,
      "outputs": []
    },
    {
      "cell_type": "code",
      "source": [
        "pickle.dump(new_df, open('project.pkl', 'wb'))"
      ],
      "metadata": {
        "id": "ZNMGlOPlysKp"
      },
      "execution_count": null,
      "outputs": []
    },
    {
      "cell_type": "code",
      "source": [],
      "metadata": {
        "id": "f6qmbIjwzbvB"
      },
      "execution_count": null,
      "outputs": []
    }
  ]
}